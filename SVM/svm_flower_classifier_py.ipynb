{
  "cells": [
    {
      "cell_type": "markdown",
      "metadata": {
        "id": "view-in-github",
        "colab_type": "text"
      },
      "source": [
        "<a href=\"https://colab.research.google.com/github/AbhishekMane06/Models/blob/main/svm_flower_classifier_py.ipynb\" target=\"_parent\"><img src=\"https://colab.research.google.com/assets/colab-badge.svg\" alt=\"Open In Colab\"/></a>"
      ]
    },
    {
      "cell_type": "markdown",
      "source": [
        "1. Importing libraries"
      ],
      "metadata": {
        "id": "Z07KtQWXgh2_"
      }
    },
    {
      "cell_type": "code",
      "source": [
        "import pandas as pd\n",
        "from sklearn.model_selection import train_test_split\n",
        "from sklearn.svm import SVC\n",
        "from sklearn.preprocessing import LabelEncoder\n",
        "from sklearn.metrics import accuracy_score"
      ],
      "metadata": {
        "id": "D1KXpVm6Z-3i"
      },
      "execution_count": 50,
      "outputs": []
    },
    {
      "cell_type": "markdown",
      "source": [
        "2. Loading the dataset"
      ],
      "metadata": {
        "id": "HIS_VpA2gt_j"
      }
    },
    {
      "cell_type": "code",
      "source": [
        "df = pd.read_csv(\"flower_dataset.csv\")"
      ],
      "metadata": {
        "id": "sx_sAUa3go5Y"
      },
      "execution_count": 51,
      "outputs": []
    },
    {
      "cell_type": "markdown",
      "source": [
        "3. Encode categorical features (Convert text to numbers)"
      ],
      "metadata": {
        "id": "9PfV2Gtmg2mJ"
      }
    },
    {
      "cell_type": "code",
      "source": [
        "encoder_size = LabelEncoder()\n",
        "encoder_fragrance = LabelEncoder()\n",
        "encoder_species = LabelEncoder()\n",
        "\n",
        "df['size'] = encoder_size.fit_transform(df['size'])\n",
        "df['fragrance'] = encoder_fragrance.fit_transform(df['fragrance'])\n",
        "df['species'] = encoder_species.fit_transform(df['species'])  # Target variable"
      ],
      "metadata": {
        "id": "4gT5jHWZg3gP"
      },
      "execution_count": 52,
      "outputs": []
    },
    {
      "cell_type": "markdown",
      "source": [
        "4. Prepare features (X) and target (y)\n"
      ],
      "metadata": {
        "id": "WxNBqbzrhbbo"
      }
    },
    {
      "cell_type": "code",
      "source": [
        "X = df[['size', 'fragrance', 'height_cm']]  # Features\n",
        "y = df['species']  # Target\n"
      ],
      "metadata": {
        "id": "vPgXYZHghb57"
      },
      "execution_count": 53,
      "outputs": []
    },
    {
      "cell_type": "markdown",
      "source": [
        "5. Split into Training & Testing"
      ],
      "metadata": {
        "id": "4_ANNZQxhorP"
      }
    },
    {
      "cell_type": "code",
      "source": [
        "X_train, X_test, y_train, y_test = train_test_split(X, y, test_size=0.2, random_state=42)\n",
        "X_train = X_train.values  # Convert DataFrame to NumPy array\n",
        "X_test = X_test.values"
      ],
      "metadata": {
        "id": "FF8Ap0e2ho8P"
      },
      "execution_count": 54,
      "outputs": []
    },
    {
      "cell_type": "markdown",
      "source": [
        "6. Train the SVM Model"
      ],
      "metadata": {
        "id": "wYxa8Kjih3jw"
      }
    },
    {
      "cell_type": "code",
      "source": [
        "svm_model = SVC(kernel='linear')\n",
        "svm_model.fit(X_train, y_train)\n",
        "\n",
        "y_pred = svm_model.predict(X_test) # Making Predictions"
      ],
      "metadata": {
        "id": "f8w7eumuh4G5"
      },
      "execution_count": 55,
      "outputs": []
    },
    {
      "cell_type": "markdown",
      "source": [
        " 7. Model Performance"
      ],
      "metadata": {
        "id": "i_HAq8SFiG1Q"
      }
    },
    {
      "cell_type": "code",
      "source": [
        "accuracy = accuracy_score(y_test, y_pred)\n",
        "print(f\"Model Accuracy: {accuracy * 100:.2f}%\")"
      ],
      "metadata": {
        "colab": {
          "base_uri": "https://localhost:8080/"
        },
        "id": "DwPjEhO1iHHN",
        "outputId": "32404a23-c1b4-4358-eef1-13b8feabab41"
      },
      "execution_count": 56,
      "outputs": [
        {
          "output_type": "stream",
          "name": "stdout",
          "text": [
            "Model Accuracy: 87.20%\n"
          ]
        }
      ]
    },
    {
      "cell_type": "markdown",
      "source": [
        "8. Taking user input"
      ],
      "metadata": {
        "id": "Z4NGlXghiYeu"
      }
    },
    {
      "cell_type": "code",
      "source": [
        "def predict_flower():\n",
        "    # Get user input\n",
        "    user_size = input(f\"Enter size ({list(encoder_size.classes_)}): \").lower()\n",
        "    user_fragrance = input(f\"Enter fragrance ({list(encoder_fragrance.classes_)}): \").lower()\n",
        "    user_height = float(input(\"Enter height (in cm): \"))\n",
        "\n",
        "    # Encode input\n",
        "    size_encoded = encoder_size.transform([user_size])[0]\n",
        "    fragrance_encoded = encoder_fragrance.transform([user_fragrance])[0]\n",
        "\n",
        "    # Predict\n",
        "    prediction = svm_model.predict([[size_encoded, fragrance_encoded, user_height]])\n",
        "    predicted_species = encoder_species.inverse_transform(prediction)[0]\n",
        "\n",
        "    print(f\"Predicted Flower Species: {predicted_species}\")"
      ],
      "metadata": {
        "id": "PwwuAKTviYv4"
      },
      "execution_count": 57,
      "outputs": []
    },
    {
      "cell_type": "markdown",
      "source": [
        "9. Calling the function to take input"
      ],
      "metadata": {
        "id": "fOBRRzltjEo_"
      }
    },
    {
      "cell_type": "code",
      "source": [
        "predict_flower()"
      ],
      "metadata": {
        "colab": {
          "base_uri": "https://localhost:8080/"
        },
        "id": "Nk4rxc04jE56",
        "outputId": "984cb758-383d-4e01-d20c-d515c4c7e223"
      },
      "execution_count": 58,
      "outputs": [
        {
          "output_type": "stream",
          "name": "stdout",
          "text": [
            "Enter size (['large', 'medium', 'small']): small\n",
            "Enter fragrance (['mild', 'none', 'strong']): none\n",
            "Enter height (in cm): 135\n",
            "Predicted Flower Species: hibiscus\n"
          ]
        }
      ]
    }
  ],
  "metadata": {
    "colab": {
      "provenance": [],
      "authorship_tag": "ABX9TyMH2ANi8m6bz280cYH+o8QX",
      "include_colab_link": true
    },
    "kernelspec": {
      "display_name": "Python 3",
      "name": "python3"
    },
    "language_info": {
      "name": "python"
    }
  },
  "nbformat": 4,
  "nbformat_minor": 0
}